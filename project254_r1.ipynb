{
  "nbformat": 4,
  "nbformat_minor": 0,
  "metadata": {
    "colab": {
      "provenance": []
    },
    "kernelspec": {
      "name": "python3",
      "display_name": "Python 3"
    },
    "language_info": {
      "name": "python"
    }
  },
  "cells": [
    {
      "cell_type": "code",
      "source": [
        "import numpy as np\n",
        "import pandas as pd\n",
        "import matplotlib.pyplot as plt\n",
        "import os\n",
        "import random\n",
        "import cv2\n",
        "from sklearn.model_selection import train_test_split\n",
        "from imblearn.over_sampling import SMOTE\n",
        "from sklearn.svm import SVC\n",
        "from sklearn.metrics import classification_report, confusion_matrix, accuracy_score, log_loss, roc_auc_score, f1_score, mean_absolute_error, mean_squared_error\n",
        "from sklearn.preprocessing import StandardScaler\n",
        "from sklearn.pipeline import Pipeline\n"
      ],
      "metadata": {
        "id": "71PM40BxZprw"
      },
      "execution_count": 12,
      "outputs": []
    },
    {
      "cell_type": "code",
      "source": [
        "\n",
        "# Defining directory containing the dataset\n",
        "dataset_directory = '/content/drive/MyDrive/Project  folder/The IQ-OTHNCCD lung cancer dataset/The IQ-OTHNCCD lung cancer dataset'\n",
        "dataset_directory"
      ],
      "metadata": {
        "colab": {
          "base_uri": "https://localhost:8080/",
          "height": 35
        },
        "id": "BLn-tLSdZsU8",
        "outputId": "ac1ccb37-ca95-44b1-ee59-9da5c2427292"
      },
      "execution_count": 23,
      "outputs": [
        {
          "output_type": "execute_result",
          "data": {
            "text/plain": [
              "'/content/drive/MyDrive/Project  folder/The IQ-OTHNCCD lung cancer dataset/The IQ-OTHNCCD lung cancer dataset'"
            ],
            "application/vnd.google.colaboratory.intrinsic+json": {
              "type": "string"
            }
          },
          "metadata": {},
          "execution_count": 23
        }
      ]
    },
    {
      "cell_type": "code",
      "source": [
        "# Specifying categories\n",
        "categories = ['Bengin cases', 'Malignant cases', 'Normal cases']\n"
      ],
      "metadata": {
        "id": "PEAGVDBDZu2Z"
      },
      "execution_count": 14,
      "outputs": []
    },
    {
      "cell_type": "code",
      "source": [
        "# Function to load and preprocess data\n",
        "def load_and_preprocess_data(directory, categories, img_size=256, test_size=3, random_state=42):\n",
        "    data = []\n",
        "    for category in categories:\n",
        "        path = os.path.join(directory, category)\n",
        "        class_num = categories.index(category)\n",
        "        for file in os.listdir(path):\n",
        "            filepath = os.path.join(path, file)\n",
        "            img = cv2.imread(filepath, cv2.IMREAD_GRAYSCALE)\n",
        "            img = cv2.resize(img, (img_size, img_size))\n",
        "            data.append([img, class_num])\n",
        "\n",
        "    random.shuffle(data)\n",
        "    X, y = [], []\n",
        "    for feature, label in data:\n",
        "        X.append(feature)\n",
        "        y.append(label)\n",
        "\n",
        "    X = np.array(X).reshape(-1, img_size * img_size)\n",
        "    X = X / 255.0\n",
        "    y = np.array(y)\n",
        "\n",
        "    X_train, X_valid, y_train, y_valid = train_test_split(X, y, test_size=test_size, random_state=random_state)\n",
        "\n",
        "    return X_train, X_valid, y_train, y_valid\n"
      ],
      "metadata": {
        "id": "I8T6wrZzZy1D"
      },
      "execution_count": 28,
      "outputs": []
    },
    {
      "cell_type": "code",
      "source": [
        "# Function to handle class imbalance\n",
        "def handle_class_imbalance(X_train, y_train):\n",
        "    smote = SMOTE()\n",
        "    X_train_sampled, y_train_sampled = smote.fit_resample(X_train, y_train)\n",
        "    return X_train_sampled, y_train_sampled\n"
      ],
      "metadata": {
        "id": "3vGVu9laZ1_H"
      },
      "execution_count": 29,
      "outputs": []
    },
    {
      "cell_type": "code",
      "source": [
        "# Loading and preprocessing data\n",
        "X_train, X_valid, y_train, y_valid = load_and_preprocess_data(dataset_directory, categories)\n"
      ],
      "metadata": {
        "id": "_YYgvv8eZ482"
      },
      "execution_count": 30,
      "outputs": []
    },
    {
      "cell_type": "code",
      "source": [
        "# Handling class imbalance\n",
        "X_train_sampled, y_train_sampled = handle_class_imbalance(X_train, y_train)"
      ],
      "metadata": {
        "id": "JQZ8InafZ52_"
      },
      "execution_count": 31,
      "outputs": []
    },
    {
      "cell_type": "code",
      "source": [
        "# Building and training the SVM classifier\n",
        "svm_model = Pipeline([('scaler', StandardScaler()), ('svc', SVC(kernel='linear', probability=True))])\n",
        "svm_model.fit(X_train_sampled, y_train_sampled)"
      ],
      "metadata": {
        "colab": {
          "base_uri": "https://localhost:8080/",
          "height": 125
        },
        "id": "9rM8RYwkZ_3i",
        "outputId": "12ea226c-5416-4fca-dbf1-4d4e69d7306a"
      },
      "execution_count": 32,
      "outputs": [
        {
          "data": {
            "text/html": [
              "<style>#sk-container-id-3 {color: black;background-color: white;}#sk-container-id-3 pre{padding: 0;}#sk-container-id-3 div.sk-toggleable {background-color: white;}#sk-container-id-3 label.sk-toggleable__label {cursor: pointer;display: block;width: 100%;margin-bottom: 0;padding: 0.3em;box-sizing: border-box;text-align: center;}#sk-container-id-3 label.sk-toggleable__label-arrow:before {content: \"▸\";float: left;margin-right: 0.25em;color: #696969;}#sk-container-id-3 label.sk-toggleable__label-arrow:hover:before {color: black;}#sk-container-id-3 div.sk-estimator:hover label.sk-toggleable__label-arrow:before {color: black;}#sk-container-id-3 div.sk-toggleable__content {max-height: 0;max-width: 0;overflow: hidden;text-align: left;background-color: #f0f8ff;}#sk-container-id-3 div.sk-toggleable__content pre {margin: 0.2em;color: black;border-radius: 0.25em;background-color: #f0f8ff;}#sk-container-id-3 input.sk-toggleable__control:checked~div.sk-toggleable__content {max-height: 200px;max-width: 100%;overflow: auto;}#sk-container-id-3 input.sk-toggleable__control:checked~label.sk-toggleable__label-arrow:before {content: \"▾\";}#sk-container-id-3 div.sk-estimator input.sk-toggleable__control:checked~label.sk-toggleable__label {background-color: #d4ebff;}#sk-container-id-3 div.sk-label input.sk-toggleable__control:checked~label.sk-toggleable__label {background-color: #d4ebff;}#sk-container-id-3 input.sk-hidden--visually {border: 0;clip: rect(1px 1px 1px 1px);clip: rect(1px, 1px, 1px, 1px);height: 1px;margin: -1px;overflow: hidden;padding: 0;position: absolute;width: 1px;}#sk-container-id-3 div.sk-estimator {font-family: monospace;background-color: #f0f8ff;border: 1px dotted black;border-radius: 0.25em;box-sizing: border-box;margin-bottom: 0.5em;}#sk-container-id-3 div.sk-estimator:hover {background-color: #d4ebff;}#sk-container-id-3 div.sk-parallel-item::after {content: \"\";width: 100%;border-bottom: 1px solid gray;flex-grow: 1;}#sk-container-id-3 div.sk-label:hover label.sk-toggleable__label {background-color: #d4ebff;}#sk-container-id-3 div.sk-serial::before {content: \"\";position: absolute;border-left: 1px solid gray;box-sizing: border-box;top: 0;bottom: 0;left: 50%;z-index: 0;}#sk-container-id-3 div.sk-serial {display: flex;flex-direction: column;align-items: center;background-color: white;padding-right: 0.2em;padding-left: 0.2em;position: relative;}#sk-container-id-3 div.sk-item {position: relative;z-index: 1;}#sk-container-id-3 div.sk-parallel {display: flex;align-items: stretch;justify-content: center;background-color: white;position: relative;}#sk-container-id-3 div.sk-item::before, #sk-container-id-3 div.sk-parallel-item::before {content: \"\";position: absolute;border-left: 1px solid gray;box-sizing: border-box;top: 0;bottom: 0;left: 50%;z-index: -1;}#sk-container-id-3 div.sk-parallel-item {display: flex;flex-direction: column;z-index: 1;position: relative;background-color: white;}#sk-container-id-3 div.sk-parallel-item:first-child::after {align-self: flex-end;width: 50%;}#sk-container-id-3 div.sk-parallel-item:last-child::after {align-self: flex-start;width: 50%;}#sk-container-id-3 div.sk-parallel-item:only-child::after {width: 0;}#sk-container-id-3 div.sk-dashed-wrapped {border: 1px dashed gray;margin: 0 0.4em 0.5em 0.4em;box-sizing: border-box;padding-bottom: 0.4em;background-color: white;}#sk-container-id-3 div.sk-label label {font-family: monospace;font-weight: bold;display: inline-block;line-height: 1.2em;}#sk-container-id-3 div.sk-label-container {text-align: center;}#sk-container-id-3 div.sk-container {/* jupyter's `normalize.less` sets `[hidden] { display: none; }` but bootstrap.min.css set `[hidden] { display: none !important; }` so we also need the `!important` here to be able to override the default hidden behavior on the sphinx rendered scikit-learn.org. See: https://github.com/scikit-learn/scikit-learn/issues/21755 */display: inline-block !important;position: relative;}#sk-container-id-3 div.sk-text-repr-fallback {display: none;}</style><div id=\"sk-container-id-3\" class=\"sk-top-container\"><div class=\"sk-text-repr-fallback\"><pre>Pipeline(steps=[(&#x27;scaler&#x27;, StandardScaler()),\n",
              "                (&#x27;svc&#x27;, SVC(kernel=&#x27;linear&#x27;, probability=True))])</pre><b>In a Jupyter environment, please rerun this cell to show the HTML representation or trust the notebook. <br />On GitHub, the HTML representation is unable to render, please try loading this page with nbviewer.org.</b></div><div class=\"sk-container\" hidden><div class=\"sk-item sk-dashed-wrapped\"><div class=\"sk-label-container\"><div class=\"sk-label sk-toggleable\"><input class=\"sk-toggleable__control sk-hidden--visually\" id=\"sk-estimator-id-7\" type=\"checkbox\" ><label for=\"sk-estimator-id-7\" class=\"sk-toggleable__label sk-toggleable__label-arrow\">Pipeline</label><div class=\"sk-toggleable__content\"><pre>Pipeline(steps=[(&#x27;scaler&#x27;, StandardScaler()),\n",
              "                (&#x27;svc&#x27;, SVC(kernel=&#x27;linear&#x27;, probability=True))])</pre></div></div></div><div class=\"sk-serial\"><div class=\"sk-item\"><div class=\"sk-estimator sk-toggleable\"><input class=\"sk-toggleable__control sk-hidden--visually\" id=\"sk-estimator-id-8\" type=\"checkbox\" ><label for=\"sk-estimator-id-8\" class=\"sk-toggleable__label sk-toggleable__label-arrow\">StandardScaler</label><div class=\"sk-toggleable__content\"><pre>StandardScaler()</pre></div></div></div><div class=\"sk-item\"><div class=\"sk-estimator sk-toggleable\"><input class=\"sk-toggleable__control sk-hidden--visually\" id=\"sk-estimator-id-9\" type=\"checkbox\" ><label for=\"sk-estimator-id-9\" class=\"sk-toggleable__label sk-toggleable__label-arrow\">SVC</label><div class=\"sk-toggleable__content\"><pre>SVC(kernel=&#x27;linear&#x27;, probability=True)</pre></div></div></div></div></div></div></div>"
            ],
            "text/plain": [
              "Pipeline(steps=[('scaler', StandardScaler()),\n",
              "                ('svc', SVC(kernel='linear', probability=True))])"
            ]
          },
          "execution_count": 32,
          "metadata": {},
          "output_type": "execute_result"
        }
      ]
    },
    {
      "cell_type": "code",
      "source": [
        "# Evaluating the SVM model\n",
        "y_pred_svm = svm_model.predict(X_valid)\n",
        "\n",
        "# Function to calculate classification accuracy\n",
        "def calculate_classification_accuracy(y_true, y_pred):\n",
        "    return accuracy_score(y_true, y_pred)\n",
        "\n",
        "# Function to calculate logarithmic loss\n",
        "def calculate_logarithmic_loss(y_true, y_pred_proba):\n",
        "    return log_loss(y_true, y_pred_proba)\n",
        "\n",
        "# Function to calculate confusion matrix\n",
        "def calculate_confusion_matrix(y_true, y_pred):\n",
        "    return confusion_matrix(y_true, y_pred)\n",
        "\n",
        "# Function to calculate area under the curve (ROC AUC score)\n",
        "def calculate_roc_auc_score(y_true, y_pred_proba):\n",
        "    return roc_auc_score(y_true, y_pred_proba, multi_class='ovr')\n",
        "\n",
        "# Function to calculate F1 score\n",
        "def calculate_f1_score(y_true, y_pred):\n",
        "    return f1_score(y_true, y_pred, average='weighted')\n",
        "\n",
        "# Function to calculate mean absolute error\n",
        "def calculate_mean_absolute_error(y_true, y_pred):\n",
        "    return mean_absolute_error(y_true, y_pred)\n",
        "\n",
        "# Function to calculate mean squared error\n",
        "def calculate_mean_squared_error(y_true, y_pred):\n",
        "    return mean_squared_error(y_true, y_pred)\n"
      ],
      "metadata": {
        "id": "ZysOYkLFaGTe"
      },
      "execution_count": 33,
      "outputs": []
    },
    {
      "cell_type": "code",
      "source": [
        "# Calculate evaluation metrics\n",
        "acc = calculate_classification_accuracy(y_valid, y_pred_svm)\n",
        "ll = calculate_logarithmic_loss(y_valid, svm_model.predict_proba(X_valid))\n",
        "cm = calculate_confusion_matrix(y_valid, y_pred_svm)\n",
        "roc_auc = calculate_roc_auc_score(y_valid, svm_model.predict_proba(X_valid))\n",
        "f1 = calculate_f1_score(y_valid, y_pred_svm)\n",
        "mae = calculate_mean_absolute_error(y_valid, y_pred_svm)\n",
        "mse = calculate_mean_squared_error(y_valid, y_pred_svm)\n"
      ],
      "metadata": {
        "id": "SHfoS7CIaIbG"
      },
      "execution_count": 34,
      "outputs": []
    },
    {
      "cell_type": "code",
      "execution_count": 35,
      "metadata": {
        "colab": {
          "base_uri": "https://localhost:8080/"
        },
        "id": "QJwksCt6Y5PV",
        "outputId": "bbdf8647-f25c-4230-8143-462929f1e804"
      },
      "outputs": [
        {
          "metadata": {
            "tags": null
          },
          "name": "stdout",
          "output_type": "stream",
          "text": [
            "Evaluation Metrics for SVM Classifier:\n",
            "Classification Accuracy: 1.0\n",
            "Logarithmic Loss: 0.003055714382460289\n",
            "Confusion Matrix:\n",
            " [[1 0 0]\n",
            " [0 1 0]\n",
            " [0 0 1]]\n",
            "ROC AUC Score: 1.0\n",
            "F1 Score: 1.0\n",
            "Mean Absolute Error: 0.0\n",
            "Mean Squared Error: 0.0\n"
          ]
        }
      ],
      "source": [
        "\n",
        "\n",
        "# Print evaluation metrics\n",
        "print(\"Evaluation Metrics for SVM Classifier:\")\n",
        "print(\"Classification Accuracy:\", acc)\n",
        "print(\"Logarithmic Loss:\", ll)\n",
        "print(\"Confusion Matrix:\\n\", cm)\n",
        "print(\"ROC AUC Score:\", roc_auc)\n",
        "print(\"F1 Score:\", f1)\n",
        "print(\"Mean Absolute Error:\", mae)\n",
        "print(\"Mean Squared Error:\", mse)\n"
      ]
    },
    {
      "cell_type": "code",
      "source": [
        "# Calculate training accuracy\n",
        "y_pred_train = svm_model.predict(X_train_sampled)\n",
        "train_accuracy = accuracy_score(y_train_sampled, y_pred_train)\n",
        "\n",
        "# Print training accuracy\n",
        "print(\"Training Accuracy:\", train_accuracy)\n",
        "\n",
        "# Print test accuracy (which you already calculated)\n",
        "print(\"Test Accuracy:\", acc)\n"
      ],
      "metadata": {
        "colab": {
          "base_uri": "https://localhost:8080/"
        },
        "id": "ZToZnQXpf9RC",
        "outputId": "50edc380-4336-432d-ab41-6c3a3b097fae"
      },
      "execution_count": 36,
      "outputs": [
        {
          "output_type": "stream",
          "name": "stdout",
          "text": [
            "Training Accuracy: 1.0\n",
            "Test Accuracy: 1.0\n"
          ]
        }
      ]
    },
    {
      "cell_type": "code",
      "source": [
        "import numpy as np\n",
        "import pandas as pd\n",
        "import matplotlib.pyplot as plt\n",
        "import os\n",
        "import random\n",
        "import cv2\n",
        "from sklearn.model_selection import train_test_split\n",
        "from imblearn.over_sampling import SMOTE\n",
        "from sklearn.svm import SVC\n",
        "from sklearn.metrics import classification_report, confusion_matrix, accuracy_score, log_loss, roc_auc_score, f1_score, mean_absolute_error, mean_squared_error\n",
        "from sklearn.preprocessing import StandardScaler\n",
        "from sklearn.pipeline import Pipeline\n",
        "\n",
        "# Setting up Google Colab if applicable\n",
        "\n",
        "# Defining directory containing the dataset\n",
        "dataset_directory = '/content/drive/MyDrive/Project  folder/The IQ-OTHNCCD lung cancer dataset/The IQ-OTHNCCD lung cancer dataset'\n",
        "\n",
        "# Specifying categories\n",
        "categories = ['Bengin cases', 'Malignant cases', 'Normal cases']\n",
        "\n",
        "# Function to load and preprocess data\n",
        "def load_and_preprocess_data(directory, categories, img_size=256, test_size=3, random_state=42):\n",
        "    data = []\n",
        "    for category in categories:\n",
        "        path = os.path.join(directory, category)\n",
        "        class_num = categories.index(category)\n",
        "        for file in os.listdir(path):\n",
        "            filepath = os.path.join(path, file)\n",
        "            img = cv2.imread(filepath, cv2.IMREAD_GRAYSCALE)\n",
        "            img = cv2.resize(img, (img_size, img_size))\n",
        "            data.append([img, class_num])\n",
        "\n",
        "    random.shuffle(data)\n",
        "    X, y = [], []\n",
        "    for feature, label in data:\n",
        "        X.append(feature)\n",
        "        y.append(label)\n",
        "\n",
        "    X = np.array(X).reshape(-1, img_size * img_size)\n",
        "    X = X / 255.0\n",
        "    y = np.array(y)\n",
        "\n",
        "    X_train, X_valid, y_train, y_valid = train_test_split(X, y, test_size=test_size, random_state=random_state)\n",
        "\n",
        "    return X_train, X_valid, y_train, y_valid\n",
        "\n",
        "# Function to handle class imbalance\n",
        "def handle_class_imbalance(X_train, y_train):\n",
        "    smote = SMOTE()\n",
        "    X_train_sampled, y_train_sampled = smote.fit_resample(X_train, y_train)\n",
        "    return X_train_sampled, y_train_sampled\n",
        "\n",
        "# Loading and preprocessing data\n",
        "X_train, X_valid, y_train, y_valid = load_and_preprocess_data(dataset_directory, categories)\n",
        "\n",
        "# Handling class imbalance\n",
        "X_train_sampled, y_train_sampled = handle_class_imbalance(X_train, y_train)\n",
        "\n",
        "# Building and training the SVM classifier\n",
        "svm_model = Pipeline([('scaler', StandardScaler()), ('svc', SVC(kernel='linear', probability=True))])\n",
        "svm_model.fit(X_train_sampled, y_train_sampled)\n",
        "\n",
        "# Evaluating the SVM model\n",
        "y_pred_svm = svm_model.predict(X_valid)\n",
        "\n",
        "# Function to calculate classification accuracy\n",
        "def calculate_classification_accuracy(y_true, y_pred):\n",
        "    return accuracy_score(y_true, y_pred)\n",
        "\n",
        "# Function to calculate logarithmic loss\n",
        "def calculate_logarithmic_loss(y_true, y_pred_proba):\n",
        "    return log_loss(y_true, y_pred_proba)\n",
        "\n",
        "# Function to calculate confusion matrix\n",
        "def calculate_confusion_matrix(y_true, y_pred):\n",
        "    return confusion_matrix(y_true, y_pred)\n",
        "\n",
        "# Function to calculate area under the curve (ROC AUC score)\n",
        "def calculate_roc_auc_score(y_true, y_pred_proba):\n",
        "    return roc_auc_score(y_true, y_pred_proba, multi_class='ovr')\n",
        "\n",
        "# Function to calculate F1 score\n",
        "def calculate_f1_score(y_true, y_pred):\n",
        "    return f1_score(y_true, y_pred, average='weighted')\n",
        "\n",
        "# Function to calculate mean absolute error\n",
        "def calculate_mean_absolute_error(y_true, y_pred):\n",
        "    return mean_absolute_error(y_true, y_pred)\n",
        "\n",
        "# Function to calculate mean squared error\n",
        "def calculate_mean_squared_error(y_true, y_pred):\n",
        "    return mean_squared_error(y_true, y_pred)\n",
        "\n",
        "# Calculate evaluation metrics\n",
        "acc = calculate_classification_accuracy(y_valid, y_pred_svm)\n",
        "ll = calculate_logarithmic_loss(y_valid, svm_model.predict_proba(X_valid))\n",
        "cm = calculate_confusion_matrix(y_valid, y_pred_svm)\n",
        "roc_auc = calculate_roc_auc_score(y_valid, svm_model.predict_proba(X_valid))\n",
        "f1 = calculate_f1_score(y_valid, y_pred_svm)\n",
        "mae = calculate_mean_absolute_error(y_valid, y_pred_svm)\n",
        "mse = calculate_mean_squared_error(y_valid, y_pred_svm)\n",
        "\n",
        "# Print evaluation metrics\n",
        "print(\"Evaluation Metrics for SVM Classifier:\")\n",
        "print(\"Classification Accuracy:\", acc)\n",
        "print(\"Logarithmic Loss:\", ll)\n",
        "print(\"Confusion Matrix:\\n\", cm)\n",
        "print(\"ROC AUC Score:\", roc_auc)\n",
        "print(\"F1 Score:\", f1)\n",
        "print(\"Mean Absolute Error:\", mae)\n",
        "print(\"Mean Squared Error:\", mse)\n"
      ],
      "metadata": {
        "id": "KYaMcLESl18b"
      },
      "execution_count": null,
      "outputs": []
    },
    {
      "cell_type": "code",
      "source": [
        "# Calculate training accuracy\n",
        "train_accuracy = svm_model.score(X_train_sampled, y_train_sampled)\n",
        "\n",
        "# Calculate test accuracy\n",
        "test_accuracy = svm_model.score(X_valid, y_valid)\n",
        "\n",
        "print(\"Training Accuracy:\", train_accuracy)\n",
        "print(\"Test Accuracy:\", test_accuracy)\n"
      ],
      "metadata": {
        "id": "3CIzMHdlns0j"
      },
      "execution_count": null,
      "outputs": []
    },
    {
      "cell_type": "code",
      "source": [],
      "metadata": {
        "id": "htlH7Z2tonc8"
      },
      "execution_count": null,
      "outputs": []
    }
  ]
}